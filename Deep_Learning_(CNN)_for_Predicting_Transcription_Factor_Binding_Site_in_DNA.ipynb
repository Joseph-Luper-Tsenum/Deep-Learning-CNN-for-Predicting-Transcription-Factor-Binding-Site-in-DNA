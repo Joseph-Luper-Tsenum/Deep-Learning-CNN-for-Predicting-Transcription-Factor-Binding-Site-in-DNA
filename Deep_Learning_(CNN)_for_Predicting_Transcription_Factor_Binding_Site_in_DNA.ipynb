{
  "nbformat": 4,
  "nbformat_minor": 0,
  "metadata": {
    "colab": {
      "name": "Deep Learning (CNN) for Predicting Transcription Factor Binding Site in DNA",
      "provenance": [],
      "collapsed_sections": [],
      "include_colab_link": true
    },
    "kernelspec": {
      "name": "python3",
      "display_name": "Python 3"
    },
    "accelerator": "GPU"
  },
  "cells": [
    {
      "cell_type": "markdown",
      "metadata": {
        "id": "view-in-github",
        "colab_type": "text"
      },
      "source": [
        "<a href=\"https://colab.research.google.com/github/Joseph-Luper-Tsenum/Deep-Learning-CNN-for-Predicting-Transcription-Factor-Binding-Site-in-DNA/blob/main/Deep_Learning_(CNN)_for_Predicting_Transcription_Factor_Binding_Site_in_DNA.ipynb\" target=\"_parent\"><img src=\"https://colab.research.google.com/assets/colab-badge.svg\" alt=\"Open In Colab\"/></a>"
      ]
    },
    {
      "cell_type": "markdown",
      "metadata": {
        "id": "R46-rwd4hNMn"
      },
      "source": [
        "Deep Learning (CNN) for Predicting Transcription Factor Binding Motifs in DNA Sequences"
      ]
    },
    {
      "cell_type": "markdown",
      "metadata": {
        "id": "eiiwjw4yhX0P"
      },
      "source": [
        "This result has been reproduced from the paper **A Primer on Deep Learning in Genomics** (*Nature Genetics, 2018*) by James Zou et. al\n",
        "\n",
        "The input data used in this model was gotten from the paper "
      ]
    },
    {
      "cell_type": "markdown",
      "metadata": {
        "id": "qVh9frJDgVQ-"
      },
      "source": [
        "## Outline "
      ]
    },
    {
      "cell_type": "markdown",
      "metadata": {
        "id": "_5D80hwMhnaf"
      },
      "source": [
        "* **Steps taken to Generate this CNN Model**\n",
        "* ** 0. Background ** \n",
        "* **1. Curate the Data**\n",
        "* **2. Select the Architecture and Train**\n",
        "* **3. Evaluate**\n",
        "* **4. Interpret**"
      ]
    },
    {
      "cell_type": "markdown",
      "metadata": {
        "id": "fb-0kBFAts0-"
      },
      "source": [
        "## 0. Background"
      ]
    },
    {
      "cell_type": "markdown",
      "metadata": {
        "id": "QABdxctitugX"
      },
      "source": [
        "\n",
        "\n",
        "Here a neural network that can discover binding motifs in DNA based on the results of an assay that determines whether a longer DNA sequence binds to the protein or not has been designed. Here, the longer DNA sequences are the *independent variables* (or *predictors*), while the positive or negative response of the assay is the *dependent variable* (or *response*).\n",
        "\n",
        "A simulated data that consists of DNA sequences of length 50 bases has been used, and is labeled with 0 or 1 depending on the result of the assay. The goal is to build a classifier that can predict whether a particular sequence will bind to the protein and discover the short motif that is the binding site in the sequences that are bound to the protein.\n",
        "\n",
        "(Spoiler alert: the true regulatory motif is *`CGACCGAACTCC`*. Of course, the neural network doesn't know this.)\n"
      ]
    },
    {
      "cell_type": "markdown",
      "metadata": {
        "id": "aK7wr8n8gzQ_"
      },
      "source": [
        "## 1. Curate the Data"
      ]
    },
    {
      "cell_type": "markdown",
      "metadata": {
        "id": "5T-FgQrNq1vS"
      },
      "source": [
        "![alt text](https://github.com/abidlabs/deep-learning-genomics-primer/blob/master/Screenshot%20from%202018-08-01%2020-31-01.png?raw=true)"
      ]
    },
    {
      "cell_type": "markdown",
      "metadata": {
        "id": "QRMSFdUSubgX"
      },
      "source": [
        "In order to train the neural network, the data must be loaded and preprocessed which consists of DNA sequences and their corresponding labels. By processing this data, the network will learn to distinguish sequences that bind to the transcription factor from those that do not. The data will then be split into three different sub-datasets:\n",
        "\n",
        "(1) Training dataset: a dataset used to fit the parameters of a model or to define the weights of connections between neurons of a neural network.\n",
        "\n",
        "(2) Validation dataset: a second dataset used to minimize overfitting. The weights of the network are not adjusted with this data set. After each training cycle, if the accuracy over the training data set increases, but the accuracy over the validation data set stays the same or decreases, then there is overfitting on the neural network.\n",
        "\n",
        "(3) Testing dataset: is a third dataset not included in the training nor validation data sets. After all the training and validation cycles are complete, this dataset is used only for testing the final solution in order to measure the actual predictive power of the neural network on new examples.\n",
        "\n",
        "-----------\n",
        "\n",
        "The first step was to load the simulated data from an external repository."
      ]
    },
    {
      "cell_type": "code",
      "metadata": {
        "id": "B_F7VoAMhLiX",
        "colab": {
          "base_uri": "https://localhost:8080/",
          "height": 204
        },
        "outputId": "7df233bf-7d7b-4d72-bebd-d0710188936c"
      },
      "source": [
        "import numpy as np\n",
        "import pandas as pd\n",
        "import matplotlib.pyplot as plt\n",
        "import requests\n",
        "\n",
        "SEQUENCES_URL = 'https://raw.githubusercontent.com/abidlabs/deep-learning-genomics-primer/master/sequences.txt'\n",
        "\n",
        "sequences = requests.get(SEQUENCES_URL).text.split('\\n')\n",
        "sequences = list(filter(None, sequences))  # This removes empty sequences.\n",
        "\n",
        "# Let's print the first few sequences.\n",
        "pd.DataFrame(sequences, index=np.arange(1, len(sequences)+1), \n",
        "             columns=['Sequences']).head()"
      ],
      "execution_count": 5,
      "outputs": [
        {
          "output_type": "execute_result",
          "data": {
            "text/html": [
              "<div>\n",
              "<style scoped>\n",
              "    .dataframe tbody tr th:only-of-type {\n",
              "        vertical-align: middle;\n",
              "    }\n",
              "\n",
              "    .dataframe tbody tr th {\n",
              "        vertical-align: top;\n",
              "    }\n",
              "\n",
              "    .dataframe thead th {\n",
              "        text-align: right;\n",
              "    }\n",
              "</style>\n",
              "<table border=\"1\" class=\"dataframe\">\n",
              "  <thead>\n",
              "    <tr style=\"text-align: right;\">\n",
              "      <th></th>\n",
              "      <th>Sequences</th>\n",
              "    </tr>\n",
              "  </thead>\n",
              "  <tbody>\n",
              "    <tr>\n",
              "      <th>1</th>\n",
              "      <td>CCGAGGGCTATGGTTTGGAAGTTAGAACCCTGGGGCTTCTCGCGGA...</td>\n",
              "    </tr>\n",
              "    <tr>\n",
              "      <th>2</th>\n",
              "      <td>GAGTTTATATGGCGCGAGCCTAGTGGTTTTTGTACTTGTTTGTCGC...</td>\n",
              "    </tr>\n",
              "    <tr>\n",
              "      <th>3</th>\n",
              "      <td>GATCAGTAGGGAAACAAACAGAGGGCCCAGCCACATCTAGCAGGTA...</td>\n",
              "    </tr>\n",
              "    <tr>\n",
              "      <th>4</th>\n",
              "      <td>GTCCACGACCGAACTCCCACCTTGACCGCAGAGGTACCACCAGAGC...</td>\n",
              "    </tr>\n",
              "    <tr>\n",
              "      <th>5</th>\n",
              "      <td>GGCGACCGAACTCCAACTAGAACCTGCATAACTGGCCTGGGAGATA...</td>\n",
              "    </tr>\n",
              "  </tbody>\n",
              "</table>\n",
              "</div>"
            ],
            "text/plain": [
              "                                           Sequences\n",
              "1  CCGAGGGCTATGGTTTGGAAGTTAGAACCCTGGGGCTTCTCGCGGA...\n",
              "2  GAGTTTATATGGCGCGAGCCTAGTGGTTTTTGTACTTGTTTGTCGC...\n",
              "3  GATCAGTAGGGAAACAAACAGAGGGCCCAGCCACATCTAGCAGGTA...\n",
              "4  GTCCACGACCGAACTCCCACCTTGACCGCAGAGGTACCACCAGAGC...\n",
              "5  GGCGACCGAACTCCAACTAGAACCTGCATAACTGGCCTGGGAGATA..."
            ]
          },
          "metadata": {
            "tags": []
          },
          "execution_count": 5
        }
      ]
    },
    {
      "cell_type": "markdown",
      "metadata": {
        "id": "bzsbNHqWiFek"
      },
      "source": [
        "The next  step is to organize the data into a format that can be passed into a deep learning algorithm. Most deep learning algorithms accept data in the form of vectors or matrices (or more generally, tensors). \n",
        "\n",
        "To get each DNA sequence in the form of a matrix, _one-hot encoding_ was used, which encodes every base in a sequence in the form of a 4-dimensional vector, with a separate dimension for each base. A \"1\" was placed in the dimension corresponding to the base found in the DNA sequence, and \"0\"s in all other slots. These 4-dimensional vectors were concatenate together along the bases in the sequence to form a matrix. \n",
        "\n",
        "In the cell below, one-hot encode on the simulated DNA sequences was carried out, and show an example of what the one-hot encoded sequence looks like:"
      ]
    },
    {
      "cell_type": "code",
      "metadata": {
        "id": "IPJD6PuDnaS6",
        "colab": {
          "base_uri": "https://localhost:8080/"
        },
        "outputId": "fb3f0a5a-bb10-4413-d5a0-3d3ff770113d"
      },
      "source": [
        "from sklearn.preprocessing import LabelEncoder, OneHotEncoder\n",
        "\n",
        "# The LabelEncoder encodes a sequence of bases as a sequence of integers.\n",
        "integer_encoder = LabelEncoder()  \n",
        "# The OneHotEncoder converts an array of integers to a sparse matrix where \n",
        "# each row corresponds to one possible value of each feature.\n",
        "one_hot_encoder = OneHotEncoder(categories='auto')   \n",
        "input_features = []\n",
        "\n",
        "for sequence in sequences:\n",
        "  integer_encoded = integer_encoder.fit_transform(list(sequence))\n",
        "  integer_encoded = np.array(integer_encoded).reshape(-1, 1)\n",
        "  one_hot_encoded = one_hot_encoder.fit_transform(integer_encoded)\n",
        "  input_features.append(one_hot_encoded.toarray())\n",
        "\n",
        "np.set_printoptions(threshold=40)\n",
        "input_features = np.stack(input_features)\n",
        "print(\"Example sequence\\n-----------------------\")\n",
        "print('DNA Sequence #1:\\n',sequences[0][:10],'...',sequences[0][-10:])\n",
        "print('One hot encoding of Sequence #1:\\n',input_features[0].T)"
      ],
      "execution_count": 26,
      "outputs": [
        {
          "output_type": "stream",
          "text": [
            "Example sequence\n",
            "-----------------------\n",
            "DNA Sequence #1:\n",
            " CCGAGGGCTA ... CGCGGACACC\n",
            "One hot encoding of Sequence #1:\n",
            " [[0. 0. 0. ... 1. 0. 0.]\n",
            " [1. 1. 0. ... 0. 1. 1.]\n",
            " [0. 0. 1. ... 0. 0. 0.]\n",
            " [0. 0. 0. ... 0. 0. 0.]]\n"
          ],
          "name": "stdout"
        }
      ]
    },
    {
      "cell_type": "markdown",
      "metadata": {
        "id": "AbBmrEVGrahN"
      },
      "source": [
        "Similarly, the labels were loaded (_response variables_). In this case, the labels are structured as follows: a \"1\" indicates that a protein bound to the sequence, while a \"0\" indicates that the protein did not. While the labels could be used as a vector, it is often easier to similarly one-hot encode the labels, just as done on the features. This was carried out here:"
      ]
    },
    {
      "cell_type": "code",
      "metadata": {
        "id": "IA9FJeQkr1Ze",
        "colab": {
          "base_uri": "https://localhost:8080/"
        },
        "outputId": "ef4f7b5e-6bf5-4076-a2ce-fe4cb18a3afd"
      },
      "source": [
        "LABELS_URL = 'https://raw.githubusercontent.com/abidlabs/deep-learning-genomics-primer/master/labels.txt'\n",
        "\n",
        "labels = requests.get(LABELS_URL).text.split('\\n')\n",
        "labels = list(filter(None, labels))  # removes empty sequences\n",
        "\n",
        "one_hot_encoder = OneHotEncoder(categories='auto')\n",
        "labels = np.array(labels).reshape(-1, 1)\n",
        "input_labels = one_hot_encoder.fit_transform(labels).toarray()\n",
        "\n",
        "print('Labels:\\n',labels.T)\n",
        "print('One-hot encoded labels:\\n',input_labels.T)"
      ],
      "execution_count": 27,
      "outputs": [
        {
          "output_type": "stream",
          "text": [
            "Labels:\n",
            " [['0' '0' '0' ... '0' '1' '1']]\n",
            "One-hot encoded labels:\n",
            " [[1. 1. 1. ... 1. 0. 0.]\n",
            " [0. 0. 0. ... 0. 1. 1.]]\n"
          ],
          "name": "stdout"
        }
      ]
    },
    {
      "cell_type": "markdown",
      "metadata": {
        "id": "MTokFzDZvQR-"
      },
      "source": [
        "The data was then split into training and test sets. The purpose of the test set is to ensure that the performance of the model on new data can be observed, not seen previously during training. At a later step, the training set was further partitined into a training and validation set."
      ]
    },
    {
      "cell_type": "code",
      "metadata": {
        "id": "P_7LKgvc3Lnn"
      },
      "source": [
        "from sklearn.model_selection import train_test_split\n",
        "\n",
        "train_features, test_features, train_labels, test_labels = train_test_split(\n",
        "    input_features, input_labels, test_size=0.25, random_state=42)"
      ],
      "execution_count": 28,
      "outputs": []
    },
    {
      "cell_type": "markdown",
      "metadata": {
        "id": "7LQp2ZFrg6dm"
      },
      "source": [
        "## 2. Select the Architecture and Train"
      ]
    },
    {
      "cell_type": "markdown",
      "metadata": {
        "id": "xBT6Q3j-sjhh"
      },
      "source": [
        "![alt text](https://github.com/abidlabs/deep-learning-genomics-primer/blob/master/Screenshot%20from%202018-08-01%2020-31-49.png?raw=true)"
      ]
    },
    {
      "cell_type": "markdown",
      "metadata": {
        "id": "krHJgtK_rzif"
      },
      "source": [
        "Next, a neural network architecture to train the model was then choosen. A simple 1D convolutional neural network (CNN) was chosen, which is commonly used in deep learning for functional genomics applications.\n",
        "\n",
        "A CNN learns to recognize patterns that are generally invariant across space, by trying to match the input sequence to a number of learnable \"filters\" of a fixed size. In this dataset, the filters will be motifs within the DNA sequences. The CNN may then learn to combine these filters to recognize a larger structure (e.g. the presence or absence of a transcription factor binding site). \n",
        "\n",
        "Deep learning library `Keras` was used. `Keras` has been integrated into `TensorFlow`,  which makes it very easy to construct neural networks. Also, the only need here is to specify the kinds of layers you want to include in the network, and the dimensionality of each layer. The CNN generated here consists of the following layers:\n",
        "\n",
        "- _Conv1D_: Here, the convolutional layer was defined to have 32 filters of size 12 bases.\n",
        "\n",
        "- _MaxPooling1D_: After the convolution, a pooling layer was used to down-sample the output of the each of the 32 convolutional filters. Though not always required, this is a typical form of non-linear down-sampling used in CNNs.\n",
        "\n",
        "- _Flatten_: This layer flattens the output of the max pooling layer, combining the results of the convolution and pooling layers across all 32 filters. \n",
        "\n",
        "- _Dense_: The first Dense tensor creates a layer (dense_1) that compresses the representation of the flattened layer, resulting in smaller layer with 16 tensors, and the second Dense function converges the tensors into the output layer (dense_2) that consists of the two possible response values (0 or 1).\n",
        "\n",
        "The details of the architecture of the neural network created can be seen by running `model.summary()`, which prints the dimensionality and number of parameters for each layer in the network. "
      ]
    },
    {
      "cell_type": "code",
      "metadata": {
        "id": "dU3imaIns80_",
        "colab": {
          "base_uri": "https://localhost:8080/"
        },
        "outputId": "01ba6eff-6481-4ee0-bd03-abc10bba72a0"
      },
      "source": [
        "from tensorflow.keras.layers import Conv1D, Dense, MaxPooling1D, Flatten\n",
        "from tensorflow.keras.models import Sequential\n",
        "\n",
        "model = Sequential()\n",
        "model.add(Conv1D(filters=32, kernel_size=12, \n",
        "            input_shape=(train_features.shape[1], 4)))\n",
        "model.add(MaxPooling1D(pool_size=4))\n",
        "model.add(Flatten())\n",
        "model.add(Dense(16, activation='relu'))\n",
        "model.add(Dense(2, activation='softmax'))\n",
        "\n",
        "model.compile(loss='binary_crossentropy', optimizer='adam', \n",
        "              metrics=['binary_accuracy'])\n",
        "model.summary()"
      ],
      "execution_count": 29,
      "outputs": [
        {
          "output_type": "stream",
          "text": [
            "Model: \"sequential_1\"\n",
            "_________________________________________________________________\n",
            "Layer (type)                 Output Shape              Param #   \n",
            "=================================================================\n",
            "conv1d_1 (Conv1D)            (None, 39, 32)            1568      \n",
            "_________________________________________________________________\n",
            "max_pooling1d_1 (MaxPooling1 (None, 9, 32)             0         \n",
            "_________________________________________________________________\n",
            "flatten_1 (Flatten)          (None, 288)               0         \n",
            "_________________________________________________________________\n",
            "dense_2 (Dense)              (None, 16)                4624      \n",
            "_________________________________________________________________\n",
            "dense_3 (Dense)              (None, 2)                 34        \n",
            "=================================================================\n",
            "Total params: 6,226\n",
            "Trainable params: 6,226\n",
            "Non-trainable params: 0\n",
            "_________________________________________________________________\n"
          ],
          "name": "stdout"
        }
      ]
    },
    {
      "cell_type": "markdown",
      "metadata": {
        "id": "qSOUwoG_vHRA"
      },
      "source": [
        "Now, the neural network can be trained. The training set was further divided into a training and validation set. Only the reduced training set was trained, but plot the loss curve on both the training and validation sets. Once the loss for the validation set stops improving or gets worse throughout the learning cycles, it is time to stop training because the model has already converged and may be just overfitting."
      ]
    },
    {
      "cell_type": "code",
      "metadata": {
        "id": "LSOmHIM83hXO",
        "colab": {
          "base_uri": "https://localhost:8080/",
          "height": 295
        },
        "outputId": "46371844-0e12-4516-b409-4bfb0b88cd42"
      },
      "source": [
        "history = model.fit(train_features, train_labels, \n",
        "                    epochs=50, verbose=0, validation_split=0.25)\n",
        "\n",
        "plt.figure()\n",
        "plt.plot(history.history['loss'])\n",
        "plt.plot(history.history['val_loss'])\n",
        "plt.title('model loss')\n",
        "plt.ylabel('loss')\n",
        "plt.xlabel('epoch')\n",
        "plt.legend(['train', 'validation'])\n",
        "plt.show()"
      ],
      "execution_count": 30,
      "outputs": [
        {
          "output_type": "display_data",
          "data": {
            "image/png": "[encoded data removed]",
            "text/plain": [
              "<Figure size 432x288 with 1 Axes>"
            ]
          },
          "metadata": {
            "tags": [],
            "needs_background": "light"
          }
        }
      ]
    },
    {
      "cell_type": "markdown",
      "metadata": {
        "id": "P5eKDmX8ODBE"
      },
      "source": [
        "Similarly, a plot of the accuracy of the neural network on the binary classification task can be done. The metric used in this is the _binary accuracy_, which calculates the proportion of predictions that match labels or response variables. Other metrics may be used in different tasks -- for example, the _mean squared error_ is typically used to measure the accuracy for continuous response variables (e.g. polygenic risk scores, total serum cholesterol level, height, weight and systolic blood pressure)."
      ]
    },
    {
      "cell_type": "code",
      "metadata": {
        "id": "J2Jdpa1i8zqM",
        "colab": {
          "base_uri": "https://localhost:8080/",
          "height": 295
        },
        "outputId": "733064f5-8f9a-471c-c8f2-a8c96af21632"
      },
      "source": [
        "plt.figure()\n",
        "plt.plot(history.history['binary_accuracy'])\n",
        "plt.plot(history.history['val_binary_accuracy'])\n",
        "plt.title('model accuracy')\n",
        "plt.ylabel('accuracy')\n",
        "plt.xlabel('epoch')\n",
        "plt.legend(['train', 'validation'])\n",
        "plt.show()"
      ],
      "execution_count": 31,
      "outputs": [
        {
          "output_type": "display_data",
          "data": {
            "image/png": "[encoded data removed]",
            "text/plain": [
              "<Figure size 432x288 with 1 Axes>"
            ]
          },
          "metadata": {
            "tags": [],
            "needs_background": "light"
          }
        }
      ]
    },
    {
      "cell_type": "markdown",
      "metadata": {
        "id": "6Xy7VhhZg-hN"
      },
      "source": [
        "## 3. Evaluate"
      ]
    },
    {
      "cell_type": "markdown",
      "metadata": {
        "id": "btf7FyMVsnFA"
      },
      "source": [
        "![alt text](https://github.com/abidlabs/deep-learning-genomics-primer/blob/master/Screenshot%20from%202018-08-01%2020-32-12.png?raw=true)"
      ]
    },
    {
      "cell_type": "markdown",
      "metadata": {
        "id": "eQ_xYCvfvFlE"
      },
      "source": [
        "The best way to evaluate whether the network has learned to classify sequences is to evaluate its performance on a fresh test set consisting of data that it has not observed at all during training. Here, the model was evaluated on the test set and a plot of the results was done as a confusion matrix. Nearly every test sequence should be correctly classified."
      ]
    },
    {
      "cell_type": "code",
      "metadata": {
        "id": "J1bvxV9J-EMT",
        "colab": {
          "base_uri": "https://localhost:8080/",
          "height": 346
        },
        "outputId": "fd498e0a-b74b-4445-a538-330bce24a4cc"
      },
      "source": [
        "from sklearn.metrics import confusion_matrix\n",
        "import itertools\n",
        "\n",
        "predicted_labels = model.predict(np.stack(test_features))\n",
        "cm = confusion_matrix(np.argmax(test_labels, axis=1), \n",
        "                      np.argmax(predicted_labels, axis=1))\n",
        "print('Confusion matrix:\\n',cm)\n",
        "\n",
        "cm = cm.astype('float') / cm.sum(axis = 1)[:, np.newaxis]\n",
        "\n",
        "plt.imshow(cm, cmap=plt.cm.Blues)\n",
        "plt.title('Normalized confusion matrix')\n",
        "plt.colorbar()\n",
        "plt.xlabel('True label')\n",
        "plt.ylabel('Predicted label')\n",
        "plt.xticks([0, 1]); plt.yticks([0, 1])\n",
        "plt.grid('off')\n",
        "for i, j in itertools.product(range(cm.shape[0]), range(cm.shape[1])):\n",
        "    plt.text(j, i, format(cm[i, j], '.2f'),\n",
        "             horizontalalignment='center',\n",
        "             color='white' if cm[i, j] > 0.5 else 'black')"
      ],
      "execution_count": 32,
      "outputs": [
        {
          "output_type": "stream",
          "text": [
            "Confusion matrix:\n",
            " [[258   1]\n",
            " [  1 240]]\n"
          ],
          "name": "stdout"
        },
        {
          "output_type": "display_data",
          "data": {
            "image/png": "[encoded data removed]",
            "text/plain": [
              "<Figure size 432x288 with 2 Axes>"
            ]
          },
          "metadata": {
            "tags": [],
            "needs_background": "light"
          }
        }
      ]
    },
    {
      "cell_type": "markdown",
      "metadata": {
        "id": "UBdJQC1Ug__3"
      },
      "source": [
        "## 4. Interpret"
      ]
    },
    {
      "cell_type": "markdown",
      "metadata": {
        "id": "6qmKi1ResqHo"
      },
      "source": [
        "![alt text](https://github.com/abidlabs/deep-learning-genomics-primer/blob/master/Screenshot%20from%202018-08-01%2020-32-31.png?raw=true)"
      ]
    },
    {
      "cell_type": "markdown",
      "metadata": {
        "id": "UpAwoK9SwAbb"
      },
      "source": [
        "The results showed that the neural network is quite effective in learning to distinguish sequences that bind the protein from sequences that do not. But is it possible to understand _why_ the neural network classifies a training point in the way that it does? To do so, a simple _saliency map_ can be computed, which is the gradient of the model's prediction with respect to each individual nucleotide. \n",
        "\n",
        "In other words, the saliency maps shows how the output response value changes with respect to a small changes in input nucleotide sequence. All the positive values in the gradients tell us that a small change to that nucleotide will change the output value. Hence, visualizing these gradients for a given input sequence, should provide some clues about what nucleotides form the binding motive that need to be identified."
      ]
    },
    {
      "cell_type": "code",
      "metadata": {
        "id": "WNT_Au-dAP8a"
      },
      "source": [
        "import tensorflow.keras.backend as K\n",
        "\n",
        "def compute_salient_bases(model, x):\n",
        "  input_tensors = [model.input]\n",
        "  gradients = model.optimizer.get_gradients(model.output[0][1], model.input)\n",
        "  compute_gradients = K.function(inputs = input_tensors, outputs = gradients)\n",
        "  \n",
        "  x_value = np.expand_dims(x, axis=0)\n",
        "  gradients = compute_gradients([x_value])[0][0]\n",
        "  sal = np.clip(np.sum(np.multiply(gradients,x), axis=1),a_min=0, a_max=None)\n",
        "  return sal"
      ],
      "execution_count": 33,
      "outputs": []
    },
    {
      "cell_type": "code",
      "metadata": {
        "id": "uObq5iC4BG1g",
        "colab": {
          "base_uri": "https://localhost:8080/",
          "height": 350
        },
        "outputId": "af315b26-bd3d-4dbf-ea88-85b44ec1670c"
      },
      "source": [
        "sequence_index = 1999  # You can change this to compute the gradient for a different example. But if so, change the coloring below as well.\n",
        "sal = compute_salient_bases(model, input_features[sequence_index])\n",
        "\n",
        "plt.figure(figsize=[16,5])\n",
        "barlist = plt.bar(np.arange(len(sal)), sal)\n",
        "[barlist[i].set_color('C1') for i in range(5,17)]  # Change the coloring here if you change the sequence index.\n",
        "plt.xlabel('Bases')\n",
        "plt.ylabel('Magnitude of saliency values')\n",
        "plt.xticks(np.arange(len(sal)), list(sequences[sequence_index]));\n",
        "plt.title('Saliency map for bases in one of the positive sequences'\n",
        "          ' (green indicates the actual bases in motif)');"
      ],
      "execution_count": 34,
      "outputs": [
        {
          "output_type": "display_data",
          "data": {
            "image/png": "[encoded data removed]",
            "text/plain": [
              "<Figure size 1152x360 with 1 Axes>"
            ]
          },
          "metadata": {
            "tags": [],
            "needs_background": "light"
          }
        }
      ]
    },
    {
      "cell_type": "markdown",
      "metadata": {
        "id": "voPIrz9TPtIH"
      },
      "source": [
        "The results above should show high saliency values for the bases _CGACCGAACTCC_ appearing in the DNA sequence. If you recall from the top of the document, this is exactly the motif that was embedded in the positive sequences! The raw saliency values may be non-zero for other bases as well -- the gradient-based saliency map method is not perfect, and there are other more complex interpretation methods that are used in practice to obtain better results.  \n",
        "\n",
        "Furthermore, other architectures for this neural network can be explored to see if the performance on the validation dataset cab be improved. A different _hyper-parameters_ can be chosen, which are variables that define the network structure (e.g. the number of dense or convolutional layers, the dimensionality of each layer, etc.) and variables that determine how the network is trained (e.g. the number of epochs, the learning rate, etc.). Testing different hyper-parameter values or performing a hyper-parameter search grid are good practices that may help the deep learning procedure to obtain a clearer signal for classifying sequences and identifying the binding motif."
      ]
    }
  ]
}